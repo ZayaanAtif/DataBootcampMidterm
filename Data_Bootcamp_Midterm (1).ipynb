{
  "cells": [
    {
      "cell_type": "code",
      "execution_count": null,
      "metadata": {
        "id": "lB3De7tsOAe_"
      },
      "outputs": [],
      "source": [
        "#@title Pip Installs\n",
        "!pip install praw\n",
        "!pip install textblob\n",
        "!python -m textblob.download_corpora\n",
        "!pip install vaderSentiment"
      ]
    },
    {
      "cell_type": "code",
      "execution_count": null,
      "metadata": {
        "id": "OdwG8j8LRhvm"
      },
      "outputs": [],
      "source": [
        "#@title Imports\n",
        "import requests\n",
        "import numpy as np\n",
        "import pandas as pd\n",
        "import matplotlib.pyplot as plt\n",
        "import seaborn as sns\n",
        "import datetime\n",
        "from bs4 import BeautifulSoup\n",
        "import praw\n",
        "from textblob import TextBlob\n",
        "from vaderSentiment.vaderSentiment import SentimentIntensityAnalyzer\n",
        "import yfinance as yf"
      ]
    },
    {
      "cell_type": "markdown",
      "metadata": {
        "id": "TG9X3Ddf2ubP"
      },
      "source": [
        "# Tickers\n",
        "We are analyzing the stocks listed on the S&P 500. Initialize a list of tickers to iterate across."
      ]
    },
    {
      "cell_type": "code",
      "execution_count": null,
      "metadata": {
        "id": "8Ph4LSvEUIYU"
      },
      "outputs": [],
      "source": [
        "# Initialize tickers of S&P 500 stocks\n",
        "tickers_text = 'MMM,AOS,ABT,ABBV,ACN,AYI,ADBE,AAP,AMD,AES,AMG,AFL,A,APD,AKAM,ALK,ALB,ARE,ALGN,ALLE,LNT,ALL,GOOGL,GOOG,MO,AMZN,AEE,AAL,AEP,AXP,AIG,AMT,AWK,AMP,AME,AMGN,APH,ADI,AON,APA,AIV,AAPL,AMAT,APTV,ADM,AJG,AIZ,T,ADSK,ADP,AZO,AVB,AVY,BAC,BAX,BBT,BDX,BBY,BIIB,BLK,HRB,BA,BWA,BXP,BSX,BHF,BMY,AVGO,CHRW,CA,CDNS,CPB,COF,CAH,KMX,CCL,CAT,CBOE,CNC,CNP,CF,SCHW,CHTR,CVX,CMG,CB,CHD,CI,CINF,CTAS,CSCO,C,CFG,CME,CMS,KO,CTSH,CL,CMCSA,CMA,CAG,COP,ED,STZ,GLW,COST,COTY,CCI,CSX,CMI,CVS,DHI,DHR,DRI,DVA,DE,DAL,XRAY,DVN,DLR,DG,DLTR,D,DOV,DTE,DUK,DXC,EMN,ETN,EBAY,ECL,EIX,EW,EA,EMR,ETR,EOG,EQT,EFX,EQIX,EQR,ESS,EL,ES,EXC,EXPE,EXPD,EXR,XOM,FFIV,FAST,FRT,FDX,FIS,FITB,FE,FLS,FMC,FL,F,FTV,BEN,FCX,GRMN,IT,GD,GE,GIS,GM,GPC,GILD,GPN,GS,GT,GWW,HAL,HBI,HOG,HIG,HAS,HCA,HP,HSIC,HPE,HLT,HOLX,HD,HON,HRL,HST,HPQ,HUM,HBAN,HII,IDXX,INFO,ITW,ILMN,INCY,IR,INTC,ICE,IBM,IP,IPG,IFF,INTU,ISRG,IVZ,IQV,IRM,JBHT,SJM,JNJ,JCI,JPM,K,KEY,KMB,KIM,KMI,KLAC,KSS,KHC,KR,LB,LH,LRCX,LEG,LEN,LLY,LNC,LKQ,LMT,L,LOW,LYB,MTB,MAC,M,MPC,MAR,MMC,MLM,MAS,MA,MAT,MKC,MCD,MCK,MDT,MRK,MET,MTD,MGM,MCHP,MU,MSFT,MAA,MHK,TAP,MDLZ,MNST,MCO,MS,MSI,NDAQ,NOV,NAVI,NTAP,NFLX,NWL,NEM,NWSA,NWS,NEE,NKE,NI,NSC,NTRS,NOC,NCLH,NRG,NUE,NVDA,ORLY,OXY,OMC,OKE,ORCL,PCAR,PKG,PH,PAYX,PYPL,PNR,PEP,PRGO,PFE,PCG,PM,PSX,PNW,PNC,RL,PPG,PPL,PX,PFG,PG,PGR,PLD,PRU,PEG,PSA,PHM,PVH,QRVO,QCOM,PWR,DGX,RRC,RJF,O,REG,REGN,RF,RSG,RMD,RHI,ROK,ROP,ROST,RCL,SPGI,CRM,SBAC,SLB,STX,SEE,SRE,SHW,SIG,SPG,SWKS,SLG,SNA,SO,LUV,SWK,SBUX,STT,SYK,STI,SYF,SNPS,SYY,TROW,TPR,TGT,TEL,FTI,TXN,TXT,BK,CLX,COO,HSY,MOS,TRV,DIS,TMO,TJX,TSCO,TDG,TRIP,FOXA,FOX,TSN,USB,UDR,ULTA,UAA,UA,UNP,UAL,UNH,UPS,URI,UHS,UNM,VFC,VLO,VTR,VRSN,VRSK,VZ,VRTX,V,VNO,VMC,WMT,WBA,WM,WAT,WEC,WFC,WDC,WU,WY,WHR,WMB,WYNN,XEL,XRX,XYL,YUM,ZBH,ZION,ZTS'\n",
        "\n",
        "# Convert into a list for ease of iterations\n",
        "tickers = tickers_text.split(',')"
      ]
    },
    {
      "cell_type": "markdown",
      "metadata": {
        "id": "NrkLnXU-3JNE"
      },
      "source": [
        "# Pulling YFinance Data\n",
        "Using the yfinance api, we can access information about any stock. Given this data, we pull relevant metrics and figures to make our analysis. Additionally, we extract price data and calculate moving averages. All of this information is stored in stock_data to be transformed into a stock_df data frame."
      ]
    },
    {
      "cell_type": "code",
      "execution_count": null,
      "metadata": {
        "collapsed": true,
        "id": "-KwkSqT5IFkS"
      },
      "outputs": [],
      "source": [
        "# yfinance info\n",
        "\n",
        "# Initialize data list\n",
        "stock_data = []\n",
        "\n",
        "# Iterate across all tickers and extract data\n",
        "for ticker in tickers:\n",
        "\n",
        "  # Attempt to pull data and provide an error code\n",
        "  try:\n",
        "    ticker_data = yf.Ticker(ticker)\n",
        "    print(f'{ticker} data fetch successful')\n",
        "\n",
        "    # Pull stock company info\n",
        "    ticker_info = ticker_data.info\n",
        "    name = ticker_info.get('shortName')\n",
        "    current_price = ticker_info.get('currentPrice')\n",
        "    sector = ticker_info.get('sector')\n",
        "    market_cap = ticker_info.get('marketCap')\n",
        "    roe = ticker_info.get('returnOnEquity')\n",
        "    roa = ticker_info.get('returnOnAssets')\n",
        "\n",
        "    # Make ROE and ROA percentages\n",
        "    roe = roe * 100 if roe is not None else None\n",
        "    roa = roa * 100 if roa is not None else None\n",
        "\n",
        "    # Moving Average Calculator\n",
        "\n",
        "    # Pull historical prices\n",
        "    prices = yf.Ticker(ticker).history(period = \"1y\")['Close']\n",
        "\n",
        "    # Calculate moving averages\n",
        "    short_term_ma = prices.rolling(window=30).mean()\n",
        "    long_term_ma = prices.rolling(window=90).mean()\n",
        "\n",
        "    # Find current moving average values\n",
        "    current_short_ma = short_term_ma.iloc[-1]\n",
        "    current_long_ma = long_term_ma.iloc[-1]\n",
        "\n",
        "    # Calculate the MA Momentum\n",
        "    ma_momentum = ((current_short_ma - current_long_ma)/current_long_ma) * 100\n",
        "\n",
        "    # Append data to list\n",
        "    stock_data.append({\n",
        "      'Ticker': ticker,\n",
        "      'Name': name,\n",
        "      'Current Price': current_price,\n",
        "      'Sector': sector,\n",
        "      'Market Cap': market_cap,\n",
        "      'ROE': roe,\n",
        "      'ROA': roa,\n",
        "      'Ticker': ticker,\n",
        "      'Current Short MA': current_short_ma,\n",
        "      'Current Long MA' :  current_long_ma,\n",
        "      'MA Momentum' : ma_momentum,\n",
        "      'Prices': prices,\n",
        "      'Short Term MA': short_term_ma,\n",
        "      'Long Term MA': long_term_ma,\n",
        "    })\n",
        "  except Exception as e:\n",
        "    print(f'Error: exception {e}')"
      ]
    },
    {
      "cell_type": "code",
      "execution_count": null,
      "metadata": {
        "id": "ayayPEUJ_PAa"
      },
      "outputs": [],
      "source": [
        "# Convert data to DataFrame\n",
        "stock_df = pd.DataFrame(stock_data)\n",
        "\n",
        "# Set index to ticker\n",
        "stock_df = stock_df.set_index('Ticker')\n",
        "stock_df"
      ]
    },
    {
      "cell_type": "markdown",
      "metadata": {
        "id": "23s7oRuK4Akz"
      },
      "source": [
        "# Sentiment Analysis\n",
        "Using Praw to scrape subreddits and Vader Sentiment to compute sentiment scores, we collect information about how many times a stock is mentioned and what is the average sentiment or opinion about a stock. This data is aggregated into a sentiment_df data frame."
      ]
    },
    {
      "cell_type": "code",
      "execution_count": null,
      "metadata": {
        "collapsed": true,
        "id": "JZyt35WBN701"
      },
      "outputs": [],
      "source": [
        "# Initialize Sentiment Intensity Analyzer from Vader Sentiment\n",
        "analyzer = SentimentIntensityAnalyzer()\n",
        "\n",
        "# Define function to get the sentiment of text\n",
        "def get_sentiment(text):\n",
        "    if not isinstance(text, str) or text.strip() == '':\n",
        "        return 0\n",
        "    return analyzer.polarity_scores(text)['compound']\n",
        "\n",
        "# Define functon to average the sentiment of title and body text\n",
        "def overall_sentiment(row):\n",
        "    title_sent = row['title_sentiment']\n",
        "    body_sent = row['body_sentiment']\n",
        "    if title_sent != 0 and body_sent != 0:\n",
        "        return (title_sent + body_sent) / 2\n",
        "    else:\n",
        "        return None\n",
        "\n",
        "# Initialize list of subreddits to scrape and false tickers to exclude from sentiment analysis\n",
        "subredditlist = ['wallstreetbets', 'stockmarket', 'stocks']\n",
        "false_tickers = {'DD','IT','ALL','A','DAY','YOU','BE','ON','IN','FOR','GO','UP','SO','AI','AR','D','MGM','MFA','MA','PDT','S','T','AS','FT','IP','K', 'USA', 'M', 'B'}\n",
        "\n",
        "all_frames = []\n",
        "\n",
        "# Iterate across subreddits to scrape sentiment\n",
        "for item in subredditlist:\n",
        "    subscraper = praw.Reddit(\n",
        "        client_id='xdpuZuV2hoBM9kQDBhNKNQ',\n",
        "        client_secret='sSoQR5rsBFHvH6XtMwN7Oy0xSJiZRw',\n",
        "        user_agent='sub-activity-check by u/Flaky-Pattern4439',\n",
        "        check_for_async=False\n",
        "    )\n",
        "    sub = subscraper.subreddit(item)\n",
        "\n",
        "    # Create a list of the top posts of the week from the subreddit\n",
        "    posts = list(sub.top(time_filter='month', limit=500))\n",
        "    # Empty list to append to\n",
        "    postinfo = []\n",
        "    # Iterate across top posts of the week and scrape post data\n",
        "    for post in posts:\n",
        "        postinfo.append({\n",
        "            'title': post.title,\n",
        "            'body': post.selftext,\n",
        "            'permalink': f'https://www.reddit.com{post.permalink}',\n",
        "        })\n",
        "\n",
        "    # Create a dataframe of post data sorted by descending activity\n",
        "    postsdf = pd.DataFrame(postinfo)\n",
        "    # Running Vader sentiment analyzer on title and body text\n",
        "    postsdf['title_sentiment'] = postsdf['title'].apply(get_sentiment)\n",
        "    postsdf['body_sentiment']  = postsdf['body'].apply(get_sentiment)\n",
        "    # Averaging sentiment of title and body\n",
        "    postsdf['overall_sentiment'] = postsdf.apply(overall_sentiment, axis=1)\n",
        "\n",
        "    # Dictionary of ticker mentions and sentiment_sum for every ticker that will be added to\n",
        "    ticker_stats = {t: {'mentions': 0, 'sentiment_sum': 0.0} for t in tickers}\n",
        "\n",
        "    # Iterates through rows in the posts dataframe\n",
        "    for _, row in postsdf.iterrows():\n",
        "        text = f\" {row['title']} {row['body']} \"\n",
        "        sent = row['overall_sentiment']\n",
        "\n",
        "        # Iterating through every ticker in the ticker list, adding 1 to mentions when a post mentions it, adding sentiment score to sentiment sum when available\n",
        "        for ticker in tickers:\n",
        "            if f' {ticker} ' in text or f' ${ticker} ' in text:\n",
        "                ticker_stats[ticker]['mentions'] += 1\n",
        "                if pd.notna(sent):\n",
        "                    ticker_stats[ticker]['sentiment_sum'] += float(sent)\n",
        "\n",
        "    # Iterates over every ticker and its stats in ticker_stats and appends to rows\n",
        "    rows = []\n",
        "    for ticker, stats in ticker_stats.items():\n",
        "      if stats['mentions'] > 0:\n",
        "            rows.append({'ticker': ticker,'mentions': stats['mentions'],'sentiment_sum': stats['sentiment_sum'],})\n",
        "\n",
        "    # Converting rows to dataframe\n",
        "    result_df = pd.DataFrame(rows, columns=['ticker','mentions','sentiment_sum'])\n",
        "\n",
        "    # Removing false tickers\n",
        "    clean_df = result_df[~result_df['ticker'].isin(false_tickers)].reset_index(drop=True)\n",
        "    all_frames.append(clean_df)\n",
        "\n",
        "# Merging all dataframes in all_frames into one frame\n",
        "combined = pd.concat(all_frames, ignore_index=True)\n",
        "# Summing total mentions and total sentiment\n",
        "totals = (combined.groupby('ticker', as_index=False).agg(mentions=('mentions','sum'),sentiment_sum=('sentiment_sum','sum')))\n",
        "# Calculating average sentiment by dividing total sentiment by total mentions\n",
        "totals['avg_sentiment'] = totals['sentiment_sum'] / totals['mentions']\n",
        "# Creating DataFrame of tickers, mentions, and average sentiment from totals, ordered by descending mentions and average sentiment\n",
        "sentiment_df = (totals.sort_values(['mentions','avg_sentiment'], ascending=[False, False]).reset_index(drop=True)[['ticker','mentions','avg_sentiment']])\n",
        "\n",
        "# Setting index of DataFrame to ticker name\n",
        "sentiment_df.set_index('ticker', inplace=True)\n",
        "sentiment_df"
      ]
    },
    {
      "cell_type": "markdown",
      "metadata": {
        "id": "V7K5SK844ogR"
      },
      "source": [
        "# Data Cleaning and Consolidation\n",
        "Next, we join our two data frames, stock_df and sentiment_df, to consolidate all of our relevant information. This requires some cleanup in NaN values and column names. Finally, we compute Z-Score for relevant columns: ROE, ROA, momentum, mentions, and average sentiment."
      ]
    },
    {
      "cell_type": "code",
      "execution_count": null,
      "metadata": {
        "id": "PfEVTEuEyQX4"
      },
      "outputs": [],
      "source": [
        "# Merge stock data and sentiment analyses\n",
        "stock_df = stock_df.join(sentiment_df)\n",
        "stock_df"
      ]
    },
    {
      "cell_type": "code",
      "execution_count": null,
      "metadata": {
        "id": "ORMUeFwr73N1"
      },
      "outputs": [],
      "source": [
        "# Rename columns\n",
        "stock_df.rename(columns = {'avg_sentiment':'Average Sentiment', 'mentions': 'Mentions'}, inplace = True)\n",
        "\n",
        "# Fill NaN sentiments and return metrics for tickers with 0\n",
        "stock_df['Mentions'] = stock_df['Mentions'].fillna(0)\n",
        "stock_df['Average Sentiment'] = stock_df['Average Sentiment'].fillna(0)\n",
        "stock_df['ROE'] = stock_df['ROE'].fillna(0)\n",
        "stock_df['ROA'] = stock_df['ROA'].fillna(0)\n",
        "\n",
        "# Normalize Data for ROE, ROA, MA Momentum, Mentions, and Sentiment\n",
        "stock_df['ROE (Z-Score)'] = (stock_df['ROE'] - stock_df['ROE'].mean()) / stock_df['ROE'].std()\n",
        "stock_df['ROA (Z-Score)'] = (stock_df['ROA'] - stock_df['ROA'].mean()) / stock_df['ROA'].std()\n",
        "stock_df['MA Momentum (Z-Score)'] = (stock_df['MA Momentum'] - stock_df['MA Momentum'].mean()) / stock_df['MA Momentum'].std()\n",
        "stock_df['Mentions (Z-Score)'] = (stock_df['Mentions'] - stock_df['Mentions'].mean()) / stock_df['Mentions'].std()\n",
        "stock_df['Average Sentiment (Z-Score)'] = (stock_df['Average Sentiment'] - stock_df['Average Sentiment'].mean()) / stock_df['Average Sentiment'].std()\n",
        "\n",
        "stock_df.sort_values('Mentions', ascending=False)"
      ]
    },
    {
      "cell_type": "markdown",
      "metadata": {
        "id": "XWhzurWf5FPl"
      },
      "source": [
        "# Scoring\n",
        "With key information about each stock, we weight the relative importance of each factor and combine the z-scores to develop a composite score that shows if a stock should be bought or sold. We show the top 3 and bottom 3 stocks."
      ]
    },
    {
      "cell_type": "code",
      "execution_count": null,
      "metadata": {
        "id": "Ag5J-FzI0Rpo"
      },
      "outputs": [],
      "source": [
        "# Create a composite score for each stock\n",
        "\n",
        "# Define relative weightings for the formula\n",
        "sentiment_weight = 0.25\n",
        "ma_momentum_weight = 0.5\n",
        "roe_weight = 0.125\n",
        "roa_weight = 0.125\n",
        "\n",
        "# Combine into a composite rating score\n",
        "stock_df['Composite Score'] = (\n",
        "    (sentiment_weight * stock_df['Mentions (Z-Score)'] * stock_df['Average Sentiment (Z-Score)']) +\n",
        "    (ma_momentum_weight * stock_df['MA Momentum (Z-Score)']) +\n",
        "    (roe_weight * stock_df['ROE (Z-Score)']) +\n",
        "    (roa_weight * stock_df['ROA (Z-Score)'])\n",
        "    )\n",
        "\n",
        "# Rearrange columns\n",
        "stock_df = stock_df[[\n",
        "    'Name', 'Composite Score', 'Sector', 'Market Cap',\n",
        "    'ROE', 'ROA', 'Current Short MA',\n",
        "    'Current Long MA', 'MA Momentum',\n",
        "    'Mentions', 'Average Sentiment', 'Prices',\n",
        "    'Short Term MA', 'Long Term MA', 'ROE (Z-Score)',\n",
        "    'ROA (Z-Score)', 'MA Momentum (Z-Score)',\n",
        "    'Mentions (Z-Score)', 'Average Sentiment (Z-Score)']].copy()\n",
        "\n",
        "# Sort by score\n",
        "stock_df.sort_values('Composite Score', ascending=False, inplace=True)\n",
        "stock_df\n"
      ]
    },
    {
      "cell_type": "code",
      "execution_count": null,
      "metadata": {
        "id": "L5chRUO6KTWb"
      },
      "outputs": [],
      "source": [
        "# Show 3 Strongest Stocks\n",
        "stock_df.head(3)"
      ]
    },
    {
      "cell_type": "code",
      "execution_count": null,
      "metadata": {
        "id": "sJizYhfXK3Xp"
      },
      "outputs": [],
      "source": [
        "# Show 3 Weakest Stocks\n",
        "stock_df.tail(3)"
      ]
    },
    {
      "cell_type": "markdown",
      "metadata": {
        "id": "py5f67b75bE9"
      },
      "source": [
        "# Visualization\n",
        "Here we visualize our results and compare scores across different sectors and companies."
      ]
    },
    {
      "cell_type": "code",
      "execution_count": null,
      "metadata": {
        "id": "bCci7YQeBRDm"
      },
      "outputs": [],
      "source": [
        "# Graph composite scores based on groupby sector\n",
        "stock_score_by_sector = stock_df.groupby('Sector').mean(numeric_only=True)\n",
        "\n",
        "# Set up plot\n",
        "plt.figure(figsize=(18,6))\n",
        "sns.barplot(data = stock_score_by_sector, x = 'Sector', y = 'Composite Score')\n",
        "plt.title('Composite Score by Sector')\n",
        "plt.ylabel('Composite Score')\n",
        "plt.xlabel('Sector')\n",
        "plt.xticks(rotation=45)\n",
        "plt.ylabel('Average Composite Score')\n",
        "plt.axhline(0, color='black');"
      ]
    },
    {
      "cell_type": "code",
      "execution_count": null,
      "metadata": {
        "id": "ii6XjjyQFo7y"
      },
      "outputs": [],
      "source": [
        "# User-Input Look Up Graph for Moving Averages and Prices\n",
        "\n",
        "# Preventing code from pausing when plot is rendered\n",
        "plt.ion()\n",
        "\n",
        "# Initialize user input\n",
        "user_input = ''\n",
        "\n",
        "# While loop to allow user to type in input\n",
        "while user_input != 'EXIT':\n",
        "  print('Type EXIT to Stop')\n",
        "\n",
        "  # Prompt User\n",
        "  user_input = input('Please Enter a Valid Ticker in the S&P 500: ')\n",
        "\n",
        "  # End on EXIT, if invalid ticker give error message and clear output, if valid ticker display valid ticker price graph\n",
        "  if user_input == 'EXIT':\n",
        "    break\n",
        "  elif user_input not in tickers:\n",
        "    print('Invalid Ticker')\n",
        "    continue\n",
        "  else:\n",
        "    # Set up Plots\n",
        "    fig, ax = plt.subplots(1,2, figsize=(16,4))\n",
        "\n",
        "    # Plot Price\n",
        "    sns.lineplot(data = stock_df.loc[user_input]['Prices'], ax=ax[0])\n",
        "    ax[0].set_xlabel('Date')\n",
        "    ax[0].set_ylabel('Price')\n",
        "    ax[0].set_title(f'{user_input} Price Over Time')\n",
        "    ax[0].tick_params(axis='x', labelrotation=45)\n",
        "\n",
        "    # Plot Moving Averages\n",
        "    sns.lineplot(data = stock_df.loc[user_input]['Short Term MA'], ax=ax[1], color='Red', label='Short Term MA')\n",
        "    sns.lineplot(data = stock_df.loc[user_input]['Long Term MA'], ax=ax[1], color='Green', label='Long Term MA')\n",
        "    ax[1].set_xlabel('Date')\n",
        "    ax[1].set_ylabel('Price')\n",
        "    ax[1].set_title(f'{user_input} Moving Average Over Time')\n",
        "    ax[1].tick_params(axis='x', labelrotation=45)\n",
        "    ax[1].legend()\n",
        "\n",
        "    # Show plot, pause to render, close fig window so loop can restart, whitespace between plot and next input query\n",
        "    plt.draw()\n",
        "    plt.pause(0.001)\n",
        "    plt.close(fig)\n",
        "    print('\\n')"
      ]
    },
    {
      "cell_type": "code",
      "execution_count": null,
      "metadata": {
        "id": "iYtG08Cbn9uG"
      },
      "outputs": [],
      "source": []
    },
    {
      "cell_type": "code",
      "execution_count": null,
      "metadata": {
        "id": "l064qOPDtUb4"
      },
      "outputs": [],
      "source": []
    }
  ],
  "metadata": {
    "colab": {
      "provenance": []
    },
    "kernelspec": {
      "display_name": "Python 3",
      "name": "python3"
    },
    "language_info": {
      "name": "python"
    }
  },
  "nbformat": 4,
  "nbformat_minor": 0
}